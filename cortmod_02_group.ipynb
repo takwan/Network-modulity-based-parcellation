{
 "cells": [
  {
   "cell_type": "code",
   "execution_count": 1,
   "metadata": {},
   "outputs": [],
   "source": [
    "import os\n",
    "import fnmatch\n",
    "import numpy as np\n",
    "import pandas as pd"
   ]
  },
  {
   "cell_type": "code",
   "execution_count": 2,
   "metadata": {},
   "outputs": [],
   "source": [
    "repo = os.getcwd()\n",
    "subjDirs = []\n",
    "for subjDir in os.listdir(repo):\n",
    "    if os.path.isdir(subjDir) & (fnmatch.fnmatch(subjDir, 'GroupID')):\n",
    "        subjDirs.append(subjDir)"
   ]
  },
  {
   "cell_type": "code",
   "execution_count": 7,
   "metadata": {},
   "outputs": [],
   "source": [
    "consMatD = np.empty([333,333])\n",
    "for subj in sorted(subjDirs):\n",
    "    consMat = np.genfromtxt('consMats/consMat_' + subj + '.csv', delimiter=' ')\n",
    "    if subj == 'Subj01':\n",
    "        consMatD = consMat\n",
    "    else:\n",
    "        consMatD = np.dstack((consMatD, consMat))\n",
    "\n",
    "consMatDM = consMatD.mean(axis=2)\n",
    "np.savetxt('consMatDM_low.csv', np.tril(consMatDM, k=-1), delimiter=' ')\n",
    "## next, run cortmod_thrConn.m to threshold across ranges (0.15 to 0.01 by 0.001)"
   ]
  },
  {
   "cell_type": "code",
   "execution_count": null,
   "metadata": {},
   "outputs": [],
   "source": [
    "## Updating the group-level cortical module networks"
   ]
  },
  {
   "cell_type": "code",
   "execution_count": 4,
   "metadata": {},
   "outputs": [],
   "source": [
    "def zeropad(n,zeros=3):\n",
    "    \"Pad number n with zeros. Example: zeropad(7,3) == '007'\"\n",
    "    nstr = str(n)\n",
    "    while len(nstr) < zeros:\n",
    "        nstr = \"0\" + nstr\n",
    "    return nstr"
   ]
  },
  {
   "cell_type": "code",
   "execution_count": 5,
   "metadata": {},
   "outputs": [],
   "source": [
    "## set the module output (thresholded at 15%)\n",
    "# initial module partition\n",
    "mod_init = np.genfromtxt('links_group/modOut/clink_thr150.clu', delimiter=None)\n",
    "df_mod_init = pd.DataFrame(mod_init, columns=['node_ID', 'module', 'flow'])"
   ]
  },
  {
   "cell_type": "code",
   "execution_count": 6,
   "metadata": {},
   "outputs": [],
   "source": [
    "## iteratively update the module output from threshold of 0.15 to 0.01 by 0.001\n",
    "for thr in reversed(range(10,150)):\n",
    "    \n",
    "    # load the modularity data (node ID, module, flow) of all tresholded connectivity matrix\n",
    "    linkFiles = 'clink_thr' + str(zeropad(thr)) + '.clu'\n",
    "    mod = np.genfromtxt('links_group/modOut/' + linkFiles, delimiter=None)\n",
    "    df_mod = pd.DataFrame(mod, columns=['node_ID', 'module', 'flow'])\n",
    "    \n",
    "    # find modules consisting of at least five ROIs\n",
    "    ms = []\n",
    "    for m in list(set(mod[:,1])):\n",
    "        if np.count_nonzero(mod[:,1] == m) >= 5:\n",
    "            ms.append(m)\n",
    "    df_mod_surv = df_mod[df_mod['module'].isin(ms)]\n",
    "    \n",
    "    # update the modularity output\n",
    "    for roi in df_mod_surv['node_ID'].values:\n",
    "        roi_mask = df_mod_surv.isin([roi])\n",
    "        row_roi = list(roi_mask['node_ID'][roi_mask['node_ID'] == True].index)\n",
    "        roi_mask0 = df_mod_init.isin([roi])\n",
    "        row_roi0 = list(roi_mask0['node_ID'][roi_mask0['node_ID'] == True].index)\n",
    "        df_mod_init.at[row_roi0, 'module'] = df_mod_surv.loc[row_roi, 'module'].values\n",
    "\n",
    "df_mod_init.to_csv('links_group/modOut/cortmod_grp.csv', index=False)"
   ]
  },
  {
   "cell_type": "code",
   "execution_count": null,
   "metadata": {},
   "outputs": [],
   "source": []
  }
 ],
 "metadata": {
  "kernelspec": {
   "display_name": "Python 3 (ipykernel)",
   "language": "python",
   "name": "python3"
  },
  "language_info": {
   "codemirror_mode": {
    "name": "ipython",
    "version": 3
   },
   "file_extension": ".py",
   "mimetype": "text/x-python",
   "name": "python",
   "nbconvert_exporter": "python",
   "pygments_lexer": "ipython3",
   "version": "3.9.7"
  }
 },
 "nbformat": 4,
 "nbformat_minor": 4
}
